{
 "cells": [
  {
   "cell_type": "markdown",
   "id": "633b97aa",
   "metadata": {},
   "source": [
    "# Numerical analysis: TP-1\n",
    "<h4 align=\"right\"> Author: <i> Hicham Janati </i></h4>"
   ]
  },
  {
   "cell_type": "code",
   "execution_count": 1,
   "id": "cbcb568c",
   "metadata": {},
   "outputs": [],
   "source": [
    "import numpy as np"
   ]
  },
  {
   "cell_type": "markdown",
   "id": "9c945eaa",
   "metadata": {},
   "source": [
    "#### 1) Integers and floating point representations\n",
    "run the following cells below."
   ]
  },
  {
   "cell_type": "code",
   "execution_count": 28,
   "id": "6171e443",
   "metadata": {},
   "outputs": [
    {
     "name": "stdout",
     "output_type": "stream",
     "text": [
      "a is equal to [2] and its type is int64.\n"
     ]
    }
   ],
   "source": [
    "a = 2 * np.ones(1).astype('int64')\n",
    "print(f\"a is equal to {a} and its type is {a.dtype}.\")"
   ]
  },
  {
   "cell_type": "code",
   "execution_count": 31,
   "id": "37ad1b4a",
   "metadata": {},
   "outputs": [
    {
     "name": "stdout",
     "output_type": "stream",
     "text": [
      "2 ** 60 = [1152921504606846976]\n",
      "2 ** 61 = [2305843009213693952]\n",
      "2 ** 62 = [4611686018427387904]\n",
      "2 ** 63 = [-9223372036854775808]\n",
      "2 ** 64 = [0]\n",
      "2 ** 65 = [0]\n",
      "2 ** 66 = [0]\n",
      "2 ** 67 = [0]\n"
     ]
    }
   ],
   "source": [
    "for i in range(60, 68):\n",
    "    print(f\"2 ** {i} = {a ** i}\")\n"
   ]
  },
  {
   "cell_type": "markdown",
   "id": "dac01966",
   "metadata": {},
   "source": [
    "**Q1.  Can you explain the observed behavior ?  Propose a way to fix this.**"
   ]
  },
  {
   "cell_type": "markdown",
   "id": "2c939e78",
   "metadata": {},
   "source": [
    "The number is code with 64 bits with the first bits deciding on the sign of the number"
   ]
  },
  {
   "cell_type": "markdown",
   "id": "ae02a39a",
   "metadata": {},
   "source": [
    "**Q2. Does the problem occur without specifying the dtype `np.ones(1)`? Deduce a real numpy usecase where this might be a problem.**"
   ]
  },
  {
   "cell_type": "code",
   "execution_count": 35,
   "id": "534ac7a2",
   "metadata": {},
   "outputs": [
    {
     "name": "stdout",
     "output_type": "stream",
     "text": [
      "a is equal to [2.] and its type is float64.\n",
      "2 ** 60 = [1.1529215e+18]\n",
      "2 ** 61 = [2.30584301e+18]\n",
      "2 ** 62 = [4.61168602e+18]\n",
      "2 ** 63 = [9.22337204e+18]\n",
      "2 ** 64 = [1.84467441e+19]\n",
      "2 ** 65 = [3.68934881e+19]\n",
      "2 ** 66 = [7.37869763e+19]\n",
      "2 ** 67 = [1.47573953e+20]\n",
      "[0.]\n",
      "But 2**64 + 1 - 2**64 = 1, so the result is incorrect.\n"
     ]
    }
   ],
   "source": [
    "a = 2 * np.ones(1)\n",
    "print(f\"a is equal to {a} and its type is {a.dtype}.\")\n",
    "\n",
    "for i in range(60, 68):\n",
    "    print(f\"2 ** {i} = {a ** i}\")\n",
    "\n",
    "print(a**64 +1 - a**64) \n",
    "print('But 2**64 + 1 - 2**64 = 1, so the result is incorrect.')"
   ]
  },
  {
   "cell_type": "markdown",
   "id": "574334e9",
   "metadata": {},
   "source": [
    " In deep learning applications, chosing the \"right\" dtype is a very important tradeoff between speed and accuracy."
   ]
  },
  {
   "cell_type": "markdown",
   "id": "7540a340",
   "metadata": {},
   "source": [
    "#### 2) Imperfect floating point numbers "
   ]
  },
  {
   "cell_type": "markdown",
   "id": "34b8c4ad",
   "metadata": {},
   "source": [
    "Consider the function $f(x) = 2x$ on $[0, 0.5]$ and $f(x) = 2x - 1$ on $]0.5, 1]$ \n",
    "\n",
    "**Q1.** Consider the sequence defined by $x_{n+1} = f(x_n)$ with $x_0 = 0.1$ Compute the first 5 elements of the sequence (manually). What do you conclude ?"
   ]
  },
  {
   "cell_type": "code",
   "execution_count": null,
   "id": "31f6edb8",
   "metadata": {},
   "outputs": [],
   "source": []
  },
  {
   "cell_type": "markdown",
   "id": "15bd8be6",
   "metadata": {},
   "source": [
    "x1 = 0.1 \n",
    "0.2 0.4 0.8 1.6"
   ]
  },
  {
   "cell_type": "markdown",
   "id": "703140fd",
   "metadata": {},
   "source": [
    "**Q2.** Complete the function below that returns $x_n$. What do you observe ?"
   ]
  },
  {
   "cell_type": "code",
   "execution_count": 67,
   "id": "bdcc7d80",
   "metadata": {},
   "outputs": [
    {
     "data": {
      "text/plain": [
       "1.0"
      ]
     },
     "execution_count": 67,
     "metadata": {},
     "output_type": "execute_result"
    }
   ],
   "source": [
    "x0 = 0.1\n",
    "\n",
    "def f(x, n=100):\n",
    "    for i in range(n):\n",
    "        if 0<= x <= 0.5:\n",
    "                x = 2 * x\n",
    "        else:\n",
    "            x = 2*x - 1\n",
    "        #print(x)\n",
    "    return x\n",
    "\n",
    "f(x0)"
   ]
  },
  {
   "cell_type": "markdown",
   "id": "5b37811e",
   "metadata": {},
   "source": [
    "`float64` numbers are represented using 64 bits as:\n",
    "$$(-1)^s \\quad 0.m_1..m_{52} \\quad 2^{e_1..e_{11}}$$\n",
    "where $s$ is a sign bit, $m$ is the mantissa (52 bits) and $e$ is the exponent (11 bits)\n",
    "\n",
    "**Q4** Take a moment a contemplate this mystery. Use the `pretty_float_bits` function below to find an explanation for this."
   ]
  },
  {
   "cell_type": "markdown",
   "id": "00404f1c",
   "metadata": {},
   "source": [
    "https://evanw.github.io/float-toy/"
   ]
  },
  {
   "cell_type": "code",
   "execution_count": 49,
   "id": "7363c071",
   "metadata": {},
   "outputs": [
    {
     "data": {
      "text/plain": [
       "0.30000000000000004"
      ]
     },
     "execution_count": 49,
     "metadata": {},
     "output_type": "execute_result"
    }
   ],
   "source": [
    "0.1 + 0.2"
   ]
  },
  {
   "cell_type": "code",
   "execution_count": 80,
   "id": "3f833b8a",
   "metadata": {},
   "outputs": [
    {
     "data": {
      "text/plain": [
       "'0 01111111100 1001100110011001100110011001100110011001100110011010'"
      ]
     },
     "execution_count": 80,
     "metadata": {},
     "output_type": "execute_result"
    }
   ],
   "source": [
    "import struct\n",
    "\n",
    "def float_to_bin(f) -> str:\n",
    "    fmt = \">d\"\n",
    "    bz = struct.pack(fmt, f)\n",
    "    return \"\".join(f\"{b:08b}\" for b in bz)\n",
    "\n",
    "def sign_exponent_fraction(s):\n",
    "    return s[0:1], s[1:12], s[12:64]\n",
    "\n",
    "def pretty_float_bits(f) -> str:\n",
    "    return \" \".join(sign_exponent_fraction(float_to_bin(f)))\n",
    "\n",
    "pretty_float_bits(0.2)"
   ]
  },
  {
   "cell_type": "code",
   "execution_count": 79,
   "id": "2cc84b25",
   "metadata": {},
   "outputs": [
    {
     "name": "stdout",
     "output_type": "stream",
     "text": [
      "0 01111111011 1001100110011001100110011001100110011001100110011010\n",
      "0.1 is an approximation in binary, so the result is not exact.\n"
     ]
    }
   ],
   "source": [
    "print(pretty_float_bits(0.1))\n",
    "print('0.1 is an approximation in binary, so the result is not exact.')"
   ]
  },
  {
   "cell_type": "code",
   "execution_count": 47,
   "id": "5c26306b",
   "metadata": {},
   "outputs": [
    {
     "data": {
      "text/plain": [
       "'0 01111111101 0011001100110011001100110011001100110011001100110100'"
      ]
     },
     "execution_count": 47,
     "metadata": {},
     "output_type": "execute_result"
    }
   ],
   "source": [
    "pretty_float_bits(0.1 + 0.2)"
   ]
  },
  {
   "cell_type": "code",
   "execution_count": 68,
   "id": "fc455468",
   "metadata": {},
   "outputs": [
    {
     "data": {
      "text/plain": [
       "'0 01111111101 0011001100110011001100110011001100110011001100110011'"
      ]
     },
     "execution_count": 68,
     "metadata": {},
     "output_type": "execute_result"
    }
   ],
   "source": [
    "pretty_float_bits(0.3)"
   ]
  },
  {
   "cell_type": "code",
   "execution_count": 82,
   "id": "10b0ff5f",
   "metadata": {},
   "outputs": [
    {
     "data": {
      "text/plain": [
       "'0 01111111111 0000000000000000000000000000000000000000000000000000'"
      ]
     },
     "execution_count": 82,
     "metadata": {},
     "output_type": "execute_result"
    }
   ],
   "source": [
    "pretty_float_bits(1.0)"
   ]
  },
  {
   "cell_type": "code",
   "execution_count": 83,
   "id": "4bc17df2",
   "metadata": {},
   "outputs": [
    {
     "data": {
      "text/plain": [
       "'0 10000000000 0000000000000000000000000000000000000000000000000000'"
      ]
     },
     "execution_count": 83,
     "metadata": {},
     "output_type": "execute_result"
    }
   ],
   "source": [
    "pretty_float_bits(2.0)"
   ]
  },
  {
   "cell_type": "code",
   "execution_count": 84,
   "id": "4f7234a9",
   "metadata": {},
   "outputs": [
    {
     "data": {
      "text/plain": [
       "'0 10000000000 1000000000000000000000000000000000000000000000000000'"
      ]
     },
     "execution_count": 84,
     "metadata": {},
     "output_type": "execute_result"
    }
   ],
   "source": [
    "pretty_float_bits(3.0)"
   ]
  },
  {
   "cell_type": "markdown",
   "id": "da88dae4",
   "metadata": {},
   "source": [
    "With floats, the order matters:"
   ]
  },
  {
   "cell_type": "code",
   "execution_count": 69,
   "id": "ddd92c58",
   "metadata": {},
   "outputs": [
    {
     "data": {
      "text/plain": [
       "0.1"
      ]
     },
     "execution_count": 69,
     "metadata": {},
     "output_type": "execute_result"
    }
   ],
   "source": [
    "100. - 100. + 0.1"
   ]
  },
  {
   "cell_type": "code",
   "execution_count": 70,
   "id": "cb985cf0",
   "metadata": {},
   "outputs": [
    {
     "data": {
      "text/plain": [
       "0.09999999999999432"
      ]
     },
     "execution_count": 70,
     "metadata": {},
     "output_type": "execute_result"
    }
   ],
   "source": [
    "0.1 + 100. - 100."
   ]
  },
  {
   "cell_type": "code",
   "execution_count": 71,
   "id": "91e670da",
   "metadata": {},
   "outputs": [],
   "source": [
    "one = np.ones(1)"
   ]
  },
  {
   "cell_type": "code",
   "execution_count": 72,
   "id": "fe2d0df9",
   "metadata": {},
   "outputs": [
    {
     "data": {
      "text/plain": [
       "array([0.])"
      ]
     },
     "execution_count": 72,
     "metadata": {},
     "output_type": "execute_result"
    }
   ],
   "source": [
    "one*0"
   ]
  },
  {
   "cell_type": "code",
   "execution_count": 73,
   "id": "f9c76ff7",
   "metadata": {},
   "outputs": [
    {
     "data": {
      "text/plain": [
       "array([-0.])"
      ]
     },
     "execution_count": 73,
     "metadata": {},
     "output_type": "execute_result"
    }
   ],
   "source": [
    "-one*0"
   ]
  },
  {
   "cell_type": "code",
   "execution_count": 74,
   "id": "5c6d7ab9",
   "metadata": {},
   "outputs": [
    {
     "name": "stderr",
     "output_type": "stream",
     "text": [
      "C:\\Users\\samai\\AppData\\Local\\Temp\\ipykernel_7984\\687095102.py:1: RuntimeWarning: divide by zero encountered in divide\n",
      "  one/0\n"
     ]
    },
    {
     "data": {
      "text/plain": [
       "array([inf])"
      ]
     },
     "execution_count": 74,
     "metadata": {},
     "output_type": "execute_result"
    }
   ],
   "source": [
    "one/0"
   ]
  },
  {
   "cell_type": "code",
   "execution_count": 76,
   "id": "77378826",
   "metadata": {},
   "outputs": [
    {
     "data": {
      "text/plain": [
       "nan"
      ]
     },
     "execution_count": 76,
     "metadata": {},
     "output_type": "execute_result"
    }
   ],
   "source": [
    "np.inf - np.inf"
   ]
  },
  {
   "cell_type": "markdown",
   "id": "517bb030",
   "metadata": {},
   "source": [
    "#### 3) Machine precision and cumulative errors"
   ]
  },
  {
   "cell_type": "markdown",
   "id": "2eeaccf4",
   "metadata": {},
   "source": [
    "Consider the integral $$I_n = \\int_{0}^1 \\frac{x^n}{x + 10}dx$$\n",
    "\n",
    "1. Without computing $I_n$, find its limit.\n",
    "2. Compute $I_0$ and find a recurrence formula between $I_{n+1}$ and $I_n$\n",
    "3. If we were to compute $I_n$ recursively, would that algorithm be stable numerically ?"
   ]
  },
  {
   "cell_type": "markdown",
   "id": "07129049",
   "metadata": {},
   "source": [
    "lim = 0\n"
   ]
  },
  {
   "cell_type": "code",
   "execution_count": null,
   "id": "b32426ce",
   "metadata": {},
   "outputs": [],
   "source": [
    "def integral(i0, n):\n",
    "    ii = i0\n",
    "    for jj in range(n):\n",
    "\n",
    "    return ii"
   ]
  },
  {
   "cell_type": "code",
   "execution_count": null,
   "id": "e39b02fb",
   "metadata": {},
   "outputs": [],
   "source": [
    "integral(np.log(11/10), 20)"
   ]
  },
  {
   "cell_type": "markdown",
   "id": "a39632f2",
   "metadata": {},
   "source": [
    "4. Replace 10 in the integral with a constant A > 1. Given a machine precision variable $\\varepsilon$, how can we set the number of iterations $n$ based on a desired cumulative error E ?"
   ]
  },
  {
   "cell_type": "code",
   "execution_count": null,
   "id": "1cd09b7f",
   "metadata": {},
   "outputs": [],
   "source": []
  },
  {
   "cell_type": "code",
   "execution_count": 85,
   "id": "1c131b83",
   "metadata": {},
   "outputs": [
    {
     "name": "stdout",
     "output_type": "stream",
     "text": [
      "2.220446049250313e-16\n"
     ]
    }
   ],
   "source": [
    "print(np.finfo(float).eps) "
   ]
  },
  {
   "cell_type": "markdown",
   "id": "ebb283da",
   "metadata": {},
   "source": [
    "**Independent questions:**\n",
    "\n",
    "**Q5.** Write a piece of code that can find $\\varepsilon$ numerically. \n",
    "\n"
   ]
  },
  {
   "cell_type": "code",
   "execution_count": 91,
   "id": "26e5f4da",
   "metadata": {},
   "outputs": [
    {
     "name": "stdout",
     "output_type": "stream",
     "text": [
      "1.1102230246251565e-16\n"
     ]
    },
    {
     "data": {
      "text/plain": [
       "1.1102230246251566e-116"
      ]
     },
     "execution_count": 91,
     "metadata": {},
     "output_type": "execute_result"
    }
   ],
   "source": [
    "eps = 1.0\n",
    "while 1.0 + eps > 1.0:\n",
    "    eps = eps / 2.0\n",
    "\n",
    "print(eps)\n",
    "eps*10**(-100)"
   ]
  },
  {
   "cell_type": "markdown",
   "id": "117bca24",
   "metadata": {},
   "source": [
    "**Q6.** Given what you know now, how should you test if two numbers or arrays are equal ? "
   ]
  },
  {
   "cell_type": "code",
   "execution_count": null,
   "id": "6d1da659",
   "metadata": {},
   "outputs": [],
   "source": []
  },
  {
   "cell_type": "markdown",
   "id": "dcbaf2de",
   "metadata": {},
   "source": [
    "#### 4) Logsum-exp trick\n",
    "Consider a classification model with 4 classes. We are modeling the probablity of a sample being in class $k$ with: $$p_k = \\frac{ exp(w_k)}{\\sum_{i=1}^{4} exp(w_i)}$$\n",
    "\n",
    "where $w$ are the weights of a neural net.\n",
    "1. Why does this model make sense ? \n",
    "2. Given the example $w = [-20, -1, 0, 1000]$, it is obvious which class this sample should correspond to. Compute the prediction probabilities using the function below for this particular example. Explain."
   ]
  },
  {
   "cell_type": "code",
   "execution_count": null,
   "id": "3e9f6b85",
   "metadata": {},
   "outputs": [],
   "source": [
    "def predict(w):\n",
    "    p = np.exp(w)\n",
    "    p /= p.sum()\n",
    "    return p\n",
    "\n",
    "w = np.array([10, -1, 40, 2, 1000])\n",
    "predict(w)"
   ]
  },
  {
   "cell_type": "markdown",
   "id": "d7d025fd",
   "metadata": {},
   "source": [
    "3. Even if we assume that $exp(w_k)$ do not overflow, computing the normalizing sum can cause problems if the number of labels is too large. After showing the following statement, propose a method to modify `predict` in order to avoid overflow errors:\n",
    "$$ \\forall c \\in \\mathbb{R} \\qquad log\\left(\\sum_{k=1}^K exp(w_k + c)\\right) =  c + log\\left(\\sum_{k=1}^K exp(w_k)\\right) $$ "
   ]
  },
  {
   "cell_type": "code",
   "execution_count": null,
   "id": "d41dffa9",
   "metadata": {},
   "outputs": [],
   "source": [
    "def lse(w):\n",
    "\n",
    "    return ll\n",
    "\n",
    "def predict_stable(w):\n",
    "    return "
   ]
  },
  {
   "cell_type": "code",
   "execution_count": null,
   "id": "98c93ac0",
   "metadata": {},
   "outputs": [],
   "source": [
    "predict_stable(w)"
   ]
  },
  {
   "cell_type": "markdown",
   "id": "f59d8043",
   "metadata": {},
   "source": [
    "4. Generate random weight vectors with `np.random.randn(K)` and test that both functions return the same probabilities. Test it with the scipy `logsumexp`: "
   ]
  },
  {
   "cell_type": "code",
   "execution_count": null,
   "id": "cecf62ef",
   "metadata": {},
   "outputs": [],
   "source": [
    "from scipy.special import logsumexp\n"
   ]
  },
  {
   "cell_type": "code",
   "execution_count": null,
   "id": "47ea35d3",
   "metadata": {},
   "outputs": [],
   "source": []
  }
 ],
 "metadata": {
  "kernelspec": {
   "display_name": "Python 3 (ipykernel)",
   "language": "python",
   "name": "python3"
  },
  "language_info": {
   "codemirror_mode": {
    "name": "ipython",
    "version": 3
   },
   "file_extension": ".py",
   "mimetype": "text/x-python",
   "name": "python",
   "nbconvert_exporter": "python",
   "pygments_lexer": "ipython3",
   "version": "3.12.0"
  }
 },
 "nbformat": 4,
 "nbformat_minor": 5
}
