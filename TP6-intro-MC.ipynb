{
 "cells": [
  {
   "cell_type": "markdown",
   "metadata": {},
   "source": [
    "# TP 6 -  Sampling random numbers\n",
    "\n",
    "\n",
    "<h4 align=\"right\"> Hicham Janati </h4>\n"
   ]
  },
  {
   "cell_type": "code",
   "execution_count": 1,
   "metadata": {
    "scrolled": true
   },
   "outputs": [],
   "source": [
    "import numpy as np\n",
    "import scipy\n",
    "from matplotlib import pyplot as plt"
   ]
  },
  {
   "cell_type": "markdown",
   "metadata": {},
   "source": [
    "### \n"
   ]
  },
  {
   "cell_type": "markdown",
   "metadata": {},
   "source": [
    "# 1- pseudo-random generators\n",
    "\n",
    "The generator RANDU is a linear pseudo-random generator defined by the sequence of division rests on all integers of a 32-bit system:\n",
    "$$ x_{n+1} = (2^{16} + 3) x_n \\text{ mod } [2^{31}] $$\n",
    "so that the sequence $$u_{n} = \\frac{x_n}{2^{31}}$$ follows a uniform distribution over [0, 1]. The purpose of this exercise is to show why RANDU is considered one of the worst pseudo-random generators of all time."
   ]
  },
  {
   "cell_type": "code",
   "execution_count": 4,
   "metadata": {},
   "outputs": [
    {
     "data": {
      "text/plain": [
       "array([3.05189751e-05, 1.83109660e-04, 8.23987182e-04, 3.29593616e-03,\n",
       "       1.23597323e-02, 4.44949684e-02, 1.55732220e-01, 5.33938602e-01,\n",
       "       8.02041636e-01, 6.80239918e-03])"
      ]
     },
     "execution_count": 4,
     "metadata": {},
     "output_type": "execute_result"
    }
   ],
   "source": [
    "def randu(N, seed=1):\n",
    "    \"\"\"RANDU generator.\n",
    "    N: int.\n",
    "        number of samples.\n",
    "    s: int.\n",
    "        random seed.\n",
    "    \"\"\"\n",
    "    X = []\n",
    "    x = seed\n",
    "    for i in range(N):\n",
    "        a = (2 ** 16 + 3) * x\n",
    "        x = a % (2 ** 31)\n",
    "        X.append(x / 2 ** 31)\n",
    "    X = np.array(X)\n",
    "    return X\n",
    "\n",
    "randu(10)"
   ]
  },
  {
   "cell_type": "markdown",
   "metadata": {},
   "source": [
    "### Question 1.\n",
    "Show that after $2^{31}$ iterations, each integer between 0 and $2^{31}-1$ has been returned once and only once. "
   ]
  },
  {
   "cell_type": "markdown",
   "metadata": {},
   "source": []
  },
  {
   "cell_type": "markdown",
   "metadata": {},
   "source": [
    "### Question 2.\n",
    "Generate 10000 samples using RANDU and plot $u_{n+1}$ as a function of $u_{n}$ for all $u_{n} \\in [0.5, 0.51]$. What do you observe ?"
   ]
  },
  {
   "cell_type": "code",
   "execution_count": null,
   "metadata": {},
   "outputs": [],
   "source": []
  },
  {
   "cell_type": "markdown",
   "metadata": {},
   "source": [
    "#### Question 3. \n",
    "Generate 10000 samples using RANDU and plot $u_{n+2}$ as a function of $u_{n}$ for all $u_{n+1} \\in [0.5, 0.51]$. What do you observe ?"
   ]
  },
  {
   "cell_type": "code",
   "execution_count": null,
   "metadata": {},
   "outputs": [],
   "source": []
  },
  {
   "cell_type": "code",
   "execution_count": null,
   "metadata": {},
   "outputs": [],
   "source": []
  },
  {
   "cell_type": "code",
   "execution_count": null,
   "metadata": {},
   "outputs": [],
   "source": []
  },
  {
   "cell_type": "markdown",
   "metadata": {},
   "source": [
    "#### Question 2. \n",
    " Visualize this phenomenon using a 3 dimensions plot"
   ]
  },
  {
   "cell_type": "code",
   "execution_count": null,
   "metadata": {},
   "outputs": [],
   "source": []
  },
  {
   "cell_type": "markdown",
   "metadata": {},
   "source": [
    "#### Question 4\n",
    "An easy way to write an integer in base 2 is:"
   ]
  },
  {
   "cell_type": "code",
   "execution_count": null,
   "metadata": {},
   "outputs": [],
   "source": [
    "x = 14\n",
    "x_bin = int(\"{0:b}\".format(x))\n",
    "x_bin"
   ]
  },
  {
   "cell_type": "markdown",
   "metadata": {},
   "source": [
    "Show that the last bits (the ones with low weight) of a RANDU sequence have a very small cycling period."
   ]
  },
  {
   "cell_type": "code",
   "execution_count": null,
   "metadata": {},
   "outputs": [],
   "source": []
  },
  {
   "cell_type": "markdown",
   "metadata": {},
   "source": []
  },
  {
   "cell_type": "markdown",
   "metadata": {},
   "source": [
    "The pseudo-randomg generator used in Numpy (and most programming languages) is based on the Mersenne Twister algorithm which, loosely speaking is based on a buffer of size m i.e when given a seed $x_0$, the first generated output would be $x_{m+1}$. This makes it enjoy better statistical properties. "
   ]
  },
  {
   "cell_type": "markdown",
   "metadata": {},
   "source": [
    "# 2 - Sampling: inversing the CDF and rejection sampling\n",
    "1. Assume we now have a (reliable) pseudo-random generator RAND of a uniform distribution in [0, 1]. How can we generate samples following a different distribution with known CDF F using uniform samples from RAND using the <a href=https://en.wikipedia.org/wiki/Inverse_transform_sampling> inversion theorem </a>?"
   ]
  },
  {
   "cell_type": "markdown",
   "metadata": {},
   "source": [
    "We know that $F^{-1}(RAND) \\backsim F$"
   ]
  },
  {
   "cell_type": "markdown",
   "metadata": {},
   "source": [
    "2. Applying this strategy to the exponential distribution, implement a generator of samples following the exponential \n",
    "distribution of parameter $\\alpha$. \n",
    "Compare the histogram of the samples you generate with the desired density."
   ]
  },
  {
   "cell_type": "code",
   "execution_count": 59,
   "metadata": {},
   "outputs": [
    {
     "data": {
      "text/plain": [
       "array([3.44875560e+00, 9.12272106e-01, 1.61480495e+00, 4.96681624e-01,\n",
       "       1.46803910e+00, 2.58756289e-03, 2.67841197e+00, 1.53983409e+00,\n",
       "       3.43159828e+00, 1.56671395e+00])"
      ]
     },
     "execution_count": 59,
     "metadata": {},
     "output_type": "execute_result"
    }
   ],
   "source": [
    "alpha = 1\n",
    "u= np.random.rand()\n",
    "\n",
    "def CDF_exp_law(x):\n",
    "    return 1-np.exp(-alpha*x)\n",
    "\n",
    "def CDF_exp_law_inv(x):\n",
    "    return -np.log(1-x)/alpha\n",
    "\n",
    "def generate(F,N):\n",
    "    X=[]\n",
    "    for i in range(N):\n",
    "        U = np.random.rand()\n",
    "        x = CDF_exp_law_inv(U)\n",
    "        X.append(x)\n",
    "    return np.array(X)\n",
    "\n",
    "generate(CDF_exp_law,10)"
   ]
  },
  {
   "cell_type": "code",
   "execution_count": 72,
   "metadata": {},
   "outputs": [
    {
     "data": {
      "image/png": "[encoded data removed]",
      "text/plain": [
       "<Figure size 640x480 with 1 Axes>"
      ]
     },
     "metadata": {},
     "output_type": "display_data"
    }
   ],
   "source": [
    "plt.hist(generate(CDF_exp_law,1000), bins=50, density=True, label='Generated samples')\n",
    "plt.plot(np.linspace(0,10,100), alpha*np.exp(-alpha*np.linspace(0,10,100)), label='Exponential law')\n",
    "plt.grid()\n",
    "plt.legend()\n",
    "plt.show()"
   ]
  },
  {
   "cell_type": "markdown",
   "metadata": {},
   "source": [
    "3. Consider a random variable X following an exponential distribution with parameter $\\alpha$. Determine the distribution of the integer part of X i.e the distribution of floor(X). Deduce a random generator for the geometric distribution.\n"
   ]
  },
  {
   "cell_type": "markdown",
   "metadata": {},
   "source": [
    " $$ X \\backsim Exp(\\alpha)$$\n",
    " $$\\lfloor X \\rfloor \\backsim G(1-e^{-\\alpha})"
   ]
  },
  {
   "cell_type": "markdown",
   "metadata": {},
   "source": [
    "4. Apply this strategy to write a pseudo-random generator of samples following the Laplace distribution with density:\n",
    "$$ p(x) = \\frac{1}{2}\\exp(-|x|)$$"
   ]
  },
  {
   "cell_type": "markdown",
   "metadata": {},
   "source": [
    "$$ X \\backsim Exp(1) \\indep Y \\backsim Exp(1)$$\n",
    "$$ (X-Y) \\backsim p(dx)\n",
    "\n"
   ]
  },
  {
   "cell_type": "markdown",
   "metadata": {},
   "source": [
    "5. Assume we want to sample from a distribution with density f(x). The <a href=https://en.wikipedia.org/wiki/Rejection_sampling> rejection sampling</a> method generates samples so as \"to fill the area\" below the graph of the density function. To do so, one must have a method to sample from an area \"surrounding\" the density function graph and accept the sample if the point is below the graph, reject it otherwise.\n",
    "\n",
    "Let f be the centered and normalized Gaussian density function. Find the smallest constant M such that $f(x) \\leq Mp(x)$. Using $p(x)$ where $p$ is the Laplace distribution a surrogate function for the Gaussian density, write a generator of Gaussian samples based the accept-reject method."
   ]
  },
  {
   "cell_type": "markdown",
   "metadata": {},
   "source": [
    "$$ M = e^{\\frac{1}{2}}\\sqrt{\\frac{1}{\\pi}}"
   ]
  },
  {
   "cell_type": "markdown",
   "metadata": {},
   "source": [
    "6. Can we do the opposite ? Generate Laplace samples using a Gaussian generator via accept-reject ?"
   ]
  },
  {
   "cell_type": "code",
   "execution_count": null,
   "metadata": {},
   "outputs": [],
   "source": []
  },
  {
   "cell_type": "markdown",
   "metadata": {},
   "source": []
  },
  {
   "cell_type": "markdown",
   "metadata": {},
   "source": [
    "## 3 - Sampling: Box-Muller algorithm"
   ]
  },
  {
   "cell_type": "markdown",
   "metadata": {},
   "source": [
    "The Box-Muller algorithm has been designed to generate Gaussian samples efficiently. It bases on uniform random variables but instead of using the inverse CDF, it uses an alternative formulation.\n",
    "\n",
    "\n",
    "Consider the following algorithm: \n",
    "1. Sample two random variables $U_1, U_2 \\sim U[0, 1]$.\n",
    "2. Define $X = \\sqrt{-2\\log(U_1)}\\sin(2\\pi U_2)$ and $Y = \\sqrt{-2\\log(U_1)}\\cos(2\\pi U_2)$.\n",
    "\n",
    "\n",
    "##### Question 1.\n",
    "By an appropriate change of variable, show that $X, Y$ are independent and follow $\\mathcal{N}(0, 1)$."
   ]
  },
  {
   "cell_type": "code",
   "execution_count": null,
   "metadata": {},
   "outputs": [],
   "source": []
  },
  {
   "cell_type": "markdown",
   "metadata": {},
   "source": [
    "##### Question 2\n",
    "Draw Gaussian samples from the box-muller sampler and visualize its performance. Make sure your sampler is vectorized: generate n samples without any loops. You may consider using %timeit to evaluate the computational time needed by the algorithm and compare it with the algorithm of question 2.5."
   ]
  },
  {
   "cell_type": "code",
   "execution_count": null,
   "metadata": {},
   "outputs": [],
   "source": []
  },
  {
   "cell_type": "markdown",
   "metadata": {},
   "source": [
    "###### Question 3.\n"
   ]
  },
  {
   "cell_type": "markdown",
   "metadata": {},
   "source": [
    "An improved version of the Box-muller algorithm is given by:\n",
    "1. Sample two random variables $U_1, U_2 \\sim U[-1, 1]$ until $\\|(U_1, U_2)\\|^2 \\leq 1$.\n",
    "2. Define $X = U_1\\sqrt{-2\\log(S)/S}$ and $Y = U_2\\sqrt{-2\\log(S)/S}$ where $S = \\|(U_1, U_2)\\|^2.$\n",
    "\n",
    "Compare both sampling methods. Why could the Box-muller be better a priori ?"
   ]
  },
  {
   "cell_type": "code",
   "execution_count": null,
   "metadata": {},
   "outputs": [],
   "source": []
  }
 ],
 "metadata": {
  "kernelspec": {
   "display_name": "Python 3",
   "language": "python",
   "name": "python3"
  },
  "language_info": {
   "codemirror_mode": {
    "name": "ipython",
    "version": 3
   },
   "file_extension": ".py",
   "mimetype": "text/x-python",
   "name": "python",
   "nbconvert_exporter": "python",
   "pygments_lexer": "ipython3",
   "version": "3.12.0"
  }
 },
 "nbformat": 4,
 "nbformat_minor": 2
}
