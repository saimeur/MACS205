{
 "cells": [
  {
   "cell_type": "markdown",
   "metadata": {},
   "source": [
    "# TP 6 -  Sampling random numbers\n",
    "\n",
    "\n",
    "<h4 align=\"right\"> Hicham Janati </h4>\n"
   ]
  },
  {
   "cell_type": "code",
   "execution_count": 1,
   "metadata": {
    "scrolled": true
   },
   "outputs": [],
   "source": [
    "import numpy as np\n",
    "import scipy\n",
    "from matplotlib import pyplot as plt\n",
    "import tqdm"
   ]
  },
  {
   "cell_type": "markdown",
   "metadata": {},
   "source": [
    "### \n"
   ]
  },
  {
   "cell_type": "markdown",
   "metadata": {},
   "source": [
    "# 1- pseudo-random generators\n",
    "\n",
    "The generator RANDU is a linear pseudo-random generator defined by the sequence of division rests on all integers of a 32-bit system:\n",
    "$$ x_{n+1} = (2^{16} + 3) x_n \\text{ mod } [2^{31}] $$\n",
    "so that the sequence $$u_{n} = \\frac{x_n}{2^{31}}$$ follows a uniform distribution over [0, 1]. The purpose of this exercise is to show why RANDU is considered one of the worst pseudo-random generators of all time."
   ]
  },
  {
   "cell_type": "code",
   "execution_count": 2,
   "metadata": {},
   "outputs": [],
   "source": [
    "def randu(N, seed=1, tqdm_indicator=False):\n",
    "    \"\"\"RANDU generator.\n",
    "    N: int.\n",
    "        number of samples.\n",
    "    s: int.\n",
    "        random seed.\n",
    "    \"\"\"\n",
    "    U = np.zeros(N)\n",
    "    x = seed\n",
    "    twopower31 = 2**31\n",
    "    r = (2 ** 16 + 3)\n",
    "    if tqdm_indicator == True:\n",
    "        for i in tqdm.tqdm(range(N)):\n",
    "            a = r * x\n",
    "            x = a % twopower31\n",
    "            U[i] = x / twopower31\n",
    "    else:\n",
    "        for i in range(N):\n",
    "            a = (2 ** 16 + 3) * x\n",
    "            x = a % (2 ** 31)\n",
    "            U[i] = x / (2**31)\n",
    "    return U\n"
   ]
  },
  {
   "cell_type": "markdown",
   "metadata": {},
   "source": [
    "### Question 1.\n",
    "Show that after $2^{31}$ iterations, each integer between 0 and $2^{31}-1$ has been returned once and only once. "
   ]
  },
  {
   "cell_type": "code",
   "execution_count": 3,
   "metadata": {},
   "outputs": [
    {
     "name": "stderr",
     "output_type": "stream",
     "text": [
      "100%|██████████| 2147483648/2147483648 [17:13<00:00, 2077921.95it/s]\n"
     ]
    }
   ],
   "source": [
    "U = randu(2**31, tqdm_indicator=True)"
   ]
  },
  {
   "cell_type": "code",
   "execution_count": 10,
   "metadata": {},
   "outputs": [
    {
     "name": "stdout",
     "output_type": "stream",
     "text": [
      "3.051897510886192e-05 0.5000305189751089 3.051897510886192e-05 0.0\n"
     ]
    }
   ],
   "source": [
    "print(U[0], U[2**28], U[2**29], U[0]-U[2**29])  # U[2**29] = U[0], 2**31 = 4 * 2**29"
   ]
  },
  {
   "cell_type": "markdown",
   "metadata": {},
   "source": [
    "After one quarter of an hour, we can see that what was asked to show in the question was false. About 3 quarters of the integers have never been returned in the sequence x_n. In fact, only odd numbers can appear."
   ]
  },
  {
   "cell_type": "markdown",
   "metadata": {},
   "source": [
    "### Question 2.\n",
    "Generate 10000 samples using RANDU and plot $u_{n+1}$ as a function of $u_{n}$ for all $u_{n} \\in [0.5, 0.51]$. What do you observe ?"
   ]
  },
  {
   "cell_type": "code",
   "execution_count": null,
   "metadata": {},
   "outputs": [],
   "source": [
    "U = randu(10000)\n",
    "ind = np.where(0.5 <= U and U <= 0.51)\n",
    "if ind[-1] == 10000-1:\n",
    "    ind = ind[:-1]\n",
    "plt.plot(U[ind], U[ind+1], '.')"
   ]
  },
  {
   "cell_type": "markdown",
   "metadata": {},
   "source": [
    "The plot really looks like a i.i.d. uniform distribution."
   ]
  },
  {
   "cell_type": "markdown",
   "metadata": {},
   "source": [
    "#### Question 3. \n",
    "Generate 10000 samples using RANDU and plot $u_{n+2}$ as a function of $u_{n}$ for all $u_{n+1} \\in [0.5, 0.51]$. What do you observe ?"
   ]
  },
  {
   "cell_type": "code",
   "execution_count": null,
   "metadata": {},
   "outputs": [],
   "source": [
    "U = randu(10000)\n",
    "ind = np.where(0.5 <= U and U <= 0.51)\n",
    "if ind[-1] == 10000-1:\n",
    "    ind = ind[:-1]\n",
    "if ind[0] == 0:\n",
    "    ind = ind[1:]\n",
    "plt.plot(U[ind-1], U[ind+1], '.')"
   ]
  },
  {
   "cell_type": "markdown",
   "metadata": {},
   "source": [
    "Now, the plot show that the distribution is not i.i.d"
   ]
  },
  {
   "cell_type": "code",
   "execution_count": null,
   "metadata": {},
   "outputs": [],
   "source": []
  },
  {
   "cell_type": "markdown",
   "metadata": {},
   "source": [
    "#### Question 2. \n",
    " Visualize this phenomenon using a 3 dimensions plot"
   ]
  },
  {
   "cell_type": "code",
   "execution_count": null,
   "metadata": {},
   "outputs": [],
   "source": []
  },
  {
   "cell_type": "markdown",
   "metadata": {},
   "source": [
    "#### Question 4\n",
    "An easy way to write an integer in base 2 is:"
   ]
  },
  {
   "cell_type": "code",
   "execution_count": 11,
   "metadata": {},
   "outputs": [
    {
     "data": {
      "text/plain": [
       "1110"
      ]
     },
     "execution_count": 11,
     "metadata": {},
     "output_type": "execute_result"
    }
   ],
   "source": [
    "x = 14\n",
    "x_bin = int(\"{0:b}\".format(x))\n",
    "x_bin"
   ]
  },
  {
   "cell_type": "markdown",
   "metadata": {},
   "source": [
    "Show that the last bits (the ones with low weight) of a RANDU sequence have a very small cycling period."
   ]
  },
  {
   "cell_type": "code",
   "execution_count": null,
   "metadata": {},
   "outputs": [],
   "source": []
  },
  {
   "cell_type": "markdown",
   "metadata": {},
   "source": []
  },
  {
   "cell_type": "markdown",
   "metadata": {},
   "source": [
    "The pseudo-randomg generator used in Numpy (and most programming languages) is based on the Mersenne Twister algorithm which, loosely speaking is based on a buffer of size m i.e when given a seed $x_0$, the first generated output would be $x_{m+1}$. This makes it enjoy better statistical properties. "
   ]
  },
  {
   "cell_type": "markdown",
   "metadata": {},
   "source": [
    "# 2 - Sampling: inversing the CDF and rejection sampling\n",
    "1. Assume we now have a (reliable) pseudo-random generator RAND of a uniform distribution in [0, 1]. How can we generate samples following a different distribution with known CDF F using uniform samples from RAND using the <a href=https://en.wikipedia.org/wiki/Inverse_transform_sampling> inversion theorem </a>?"
   ]
  },
  {
   "cell_type": "markdown",
   "metadata": {},
   "source": []
  },
  {
   "cell_type": "markdown",
   "metadata": {},
   "source": [
    "2. Applying this strategy to the exponential distribution, implement a generator of samples following the exponential \n",
    "distribution of parameter $\\alpha$. \n",
    "Compare the histogram of the samples you generate with the desired density."
   ]
  },
  {
   "cell_type": "code",
   "execution_count": 7,
   "metadata": {},
   "outputs": [
    {
     "data": {
      "image/png": "[encoded data removed]",
      "text/plain": [
       "<Figure size 432x288 with 1 Axes>"
      ]
     },
     "metadata": {
      "needs_background": "light"
     },
     "output_type": "display_data"
    }
   ],
   "source": [
    "alpha = 1\n",
    "def F_inverse(x):\n",
    "    return -1/alpha * np.log(1-x)\n",
    "\n",
    "def rand_exp(N):\n",
    "    U = np.random.rand(N)\n",
    "    return F_inverse(U)\n",
    "\n",
    "x = np.arange(0, 9, 0.01)\n",
    "plt.plot(x, np.exp(-alpha*x))\n",
    "plt.hist(rand_exp(10000), 100, density=True);\n"
   ]
  },
  {
   "cell_type": "markdown",
   "metadata": {},
   "source": [
    "3. Consider a random variable X following an exponential distribution with parameter $\\alpha$. Determine the distribution of the integer part of X i.e the distribution of floor(X). Deduce a random generator for the geometric distribution.\n"
   ]
  },
  {
   "cell_type": "markdown",
   "metadata": {},
   "source": []
  },
  {
   "cell_type": "markdown",
   "metadata": {},
   "source": [
    "4. Apply this strategy to write a pseudo-random generator of samples following the Laplace distribution with density:\n",
    "$$ p(x) = \\frac{1}{2}\\exp(-|x|)$$"
   ]
  },
  {
   "cell_type": "code",
   "execution_count": 10,
   "metadata": {},
   "outputs": [
    {
     "data": {
      "image/png": "[encoded data removed]",
      "text/plain": [
       "<Figure size 432x288 with 1 Axes>"
      ]
     },
     "metadata": {
      "needs_background": "light"
     },
     "output_type": "display_data"
    }
   ],
   "source": [
    "def rand_lap(N):\n",
    "    X = rand_exp(N)\n",
    "    U = np.random.rand(N)\n",
    "    return X * np.sign(U-0.5)\n",
    "\n",
    "\n",
    "x = np.arange(-9, 9, 0.01)\n",
    "plt.plot(x, 0.5 * np.exp(-np.abs(x)))\n",
    "plt.hist(rand_lap(10000), 100, density=True);"
   ]
  },
  {
   "cell_type": "markdown",
   "metadata": {},
   "source": [
    "5. Assume we want to sample from a distribution with density f(x). The <a href=https://en.wikipedia.org/wiki/Rejection_sampling> rejection sampling</a> method generates samples so as \"to fill the area\" below the graph of the density function. To do so, one must have a method to sample from an area \"surrounding\" the density function graph and accept the sample if the point is below the graph, reject it otherwise.\n",
    "\n",
    "Let f be the centered and normalized Gaussian density function. Find the smallest constant M such that $f(x) \\leq Mp(x)$. Using $p(x)$ where $p$ is the Laplace distribution a surrogate function for the Gaussian density, write a generator of Gaussian samples based the accept-reject method."
   ]
  },
  {
   "cell_type": "code",
   "execution_count": 34,
   "metadata": {},
   "outputs": [
    {
     "name": "stdout",
     "output_type": "stream",
     "text": [
      "290 ms ± 23.3 ms per loop (mean ± std. dev. of 7 runs, 1 loop each)\n"
     ]
    },
    {
     "data": {
      "image/png": "[encoded data removed]",
      "text/plain": [
       "<Figure size 432x288 with 1 Axes>"
      ]
     },
     "metadata": {
      "needs_background": "light"
     },
     "output_type": "display_data"
    }
   ],
   "source": [
    "def f(x):\n",
    "    return 1/np.sqrt(2*np.pi) * np.exp(-x**2/2)\n",
    "def p(x):\n",
    "    return 0.5 * np.exp(-np.abs(x))\n",
    "M = 2*np.exp(1/2)/np.sqrt(2*np.pi)\n",
    "\n",
    "def rand_gauss(N):\n",
    "    X = np.zeros(N)\n",
    "    for i in range(N):\n",
    "        while True:\n",
    "            X[i] = rand_lap(1)\n",
    "            U = np.random.rand(1)\n",
    "            if f(X[i]) > M * p(X[i]):\n",
    "                print('oups')\n",
    "            if U <= f(X[i]) / M / p(X[i]):\n",
    "                break\n",
    "    return X\n",
    "\n",
    "x = np.arange(-6, 6, 0.01)\n",
    "plt.plot(x, f(x))\n",
    "%timeit X = rand_gauss(10000)\n",
    "plt.hist(X, 100, density=True);"
   ]
  },
  {
   "cell_type": "markdown",
   "metadata": {},
   "source": [
    "6. Can we do the opposite ? Generate Laplace samples using a Gaussian generator via accept-reject ?"
   ]
  },
  {
   "cell_type": "markdown",
   "metadata": {},
   "source": [
    "No, because there is no M such that p(x) <= M f(x)"
   ]
  },
  {
   "cell_type": "markdown",
   "metadata": {},
   "source": []
  },
  {
   "cell_type": "markdown",
   "metadata": {},
   "source": [
    "## 3 - Sampling: Box-Muller algorithm"
   ]
  },
  {
   "cell_type": "markdown",
   "metadata": {},
   "source": [
    "The Box-Muller algorithm has been designed to generate Gaussian samples efficiently. It bases on uniform random variables but instead of using the inverse CDF, it uses an alternative formulation.\n",
    "\n",
    "\n",
    "Consider the following algorithm: \n",
    "1. Sample two random variables $U_1, U_2 \\sim U[0, 1]$.\n",
    "2. Define $X = \\sqrt{-2\\log(U_1)}\\sin(2\\pi U_2)$ and $Y = \\sqrt{-2\\log(U_1)}\\cos(2\\pi U_2)$.\n",
    "\n",
    "\n",
    "##### Question 1.\n",
    "By an appropriate change of variable, show that $X, Y$ are independent and follow $\\mathcal{N}(0, 1)$."
   ]
  },
  {
   "cell_type": "markdown",
   "metadata": {},
   "source": [
    "Soit $(U, V)$ uniformément distribués sur $[0, 1]$ montrons que $X, Y = g(U, V)$ suit $\\mathcal{N}(0, I_2)$ avec $g$:\n",
    " On a:\n",
    "$$ \\begin{pmatrix} X \\\\ Y \\end{pmatrix} \n",
    "= g \\left( \\begin{pmatrix} U \\\\ V \\end{pmatrix} \\right)\n",
    "= \\begin{pmatrix} g_1(U,V) \\\\ g_2(U,V) \\end{pmatrix}\n",
    "$$\n",
    "Où\n",
    "$$\\begin{array}{ccccc}\n",
    "g_1 & : & ]0,1]^2 & \\to & \\mathbb{R} \\\\\n",
    " & & (x,y) & \\mapsto & \\sqrt{-2 \\ln(x)} \\cos(2\\pi y) \\\\\n",
    "\\end{array} \n",
    "$$\n",
    "et\n",
    "$$\\begin{array}{ccccc}\n",
    "g_2 & : & ]0,1]^2 & \\to & \\mathbb{R} \\\\\n",
    " & & (x,y) & \\mapsto & \\sqrt{-2 \\ln(x)} \\sin(2\\pi y) \\\\\n",
    "\\end{array} \n",
    "$$\n",
    "On peut facilement montrer que g est bijective (prendre la somme des carrés pour éliminer $cos^2 + sin^2$), de Classe $C^1$ sur son domaine de définition et son Jacbien est non nul, donc:\n",
    "$$ f_{X,Y}(X,Y) = \\left| \\frac{1}{\\text{Jac}(g)(X,Y)} \\right| \n",
    "\\iota_{g\\left(]0,1]^2\\right)}(X,Y)\n",
    "$$\n",
    "En effet, le jacobien de $g$: :\n",
    "\\begin{align*}\n",
    "\\text{Jac}(g)(U,V)\n",
    "&= \\begin{vmatrix}\n",
    "\\frac{\\partial g_1}{\\partial U}(U,V) & \\frac{\\partial g_1}{\\partial V}(U,V) \\\\\n",
    "\\frac{\\partial g_2}{\\partial U}(U,V) & \\frac{\\partial g_2}{\\partial V}(U,V)\n",
    "\\end{vmatrix}\n",
    "\\\\\n",
    "&= \\begin{vmatrix}\n",
    "\\frac{-\\cos(2\\pi V)}{U \\sqrt{-2\\ln(U)}} &  \\sqrt{-2\\ln(U)}(-2\\pi\\sin(2\\pi V)) \\\\\n",
    "\\frac{-\\sin(2\\pi V)}{U \\sqrt{-2\\ln(U)}} & \\sqrt{-2\\ln(U)}(2\\pi\\cos(2\\pi V))\n",
    "\\end{vmatrix}\n",
    "\\\\\n",
    "&= \\left| -\\frac{2\\pi}{U}\\cos^2(2\\pi V) -\\frac{2\\pi}{U}\\sin^2(2\\pi V) \\right| \\\\\n",
    "\\text{Jac}(g)(U,V)\n",
    "&= \\frac{2\\pi}{U} \\neq 0\n",
    "\\end{align*}\n",
    "\n",
    "Et puisque $X^2 + Y^2 = -2\\ln(U)$, on a $U = \\exp\\left(-\\frac{X^2+Y^2}{2}\\right)$. Ainsi :\n",
    "$$ \\text{Jac}(g)(X,Y) = \\text{Jac}(g)(g^{-1}(U,V)) = \n",
    "\\frac{2\\pi}{\\exp\\left(-\\frac{X^2+Y^2}{2}\\right)}\n",
    "$$\n",
    "\n",
    "La densité de $(X,Y)$ est :\n",
    "$$ f_{X,Y}(X,Y) = \\frac{1}{2\\pi} \\exp\\left(-\\frac{X^2+Y^2}{2}\\right)\n",
    "$$\n",
    "\n",
    "donc $ (X,Y) \\sim \\mathcal{N}\\left( \\begin{pmatrix} 0 \\\\ 0\\end{pmatrix},\n",
    "\\begin{pmatrix} 1 & 0 \\\\ 0 & 1 \\end{pmatrix} \\right)$: $ X \\perp Y$ et $ X,Y \\sim \\mathcal{N}(0,1)$.\n",
    "\n",
    "Par ailleurs les coordonnées polaires de (X, Y) sont donnés par:\n",
    "$R = \\sqrt(X^2 + Y^2) = \\sqrt(-2\\ln(U))$\n",
    "$ \\theta \n",
    "= \\arctan \\frac{Y}{X}\n",
    "= \\arctan \\frac{\\sin(2\\pi V)}{\\cos(2\\pi V)}\n",
    "= \\arctan \\left(\\tan(2\\pi V)\\right)\n",
    "= 2\\pi V\n",
    "\\sim \\mathcal{U}_{]0,2\\pi]}\n",
    "$\n",
    "Ce qui revient à simuler des var uniformes."
   ]
  },
  {
   "cell_type": "markdown",
   "metadata": {},
   "source": [
    "##### Question 2\n",
    "Draw Gaussian samples from the box-muller sampler and visualize its performance. Make sure your sampler is vectorized: generate n samples without any loops. You may consider using %timeit to evaluate the computational time needed by the algorithm and compare it with the algorithm of question 2.5."
   ]
  },
  {
   "cell_type": "code",
   "execution_count": null,
   "metadata": {},
   "outputs": [],
   "source": [
    "import numpy as np\n",
    "import matplotlib.pyplot as plt\n",
    "\n",
    "def box_muller(n, seed=None):\n",
    "    \"\"\"2D-Gaussian generator using box-muller algorithm.\n",
    "    n: int.\n",
    "        number of samples.\n",
    "    seed: int (optional).\n",
    "        random seed initialization.\n",
    "    \"\"\"\n",
    "    # init generator\n",
    "    rnd = np.random.RandomState(seed)\n",
    "    \n",
    "    # generate U and V\n",
    "    # these two lines can be replaced by\n",
    "    # U, V = rnd.rand(2, n)\n",
    "    U = rnd.rand(n)\n",
    "    V = rnd.rand(n)\n",
    "    R = np.sqrt(- 2 * np.log(U))\n",
    "    X, Y = R * np.cos(2 * np.pi * V), R * np.sin(2 * np.pi * V)\n",
    "    \n",
    "    return X, Y\n",
    "\n",
    "X, Y = box_muller(10000, seed=0)\n",
    "grid = np.linspace(-5, 5, 1000)\n",
    "densite = 1 / np.sqrt(2 * np.pi) * np.exp(- grid ** 2 / 2)\n",
    "f, axes = plt.subplots(1, 2, figsize=(10, 5))\n",
    "for ax, data, label in zip(axes, (X, Y), [r\"$X$\", r\"$Y$\"]):\n",
    "    ax.hist(data, bins=100, density=True)\n",
    "    ax.plot(grid, densite)\n",
    "    ax.set_title(label)\n",
    "plt.show()"
   ]
  },
  {
   "cell_type": "markdown",
   "metadata": {},
   "source": [
    "###### Question 3.\n"
   ]
  },
  {
   "cell_type": "markdown",
   "metadata": {},
   "source": [
    "An improved version of the Box-muller algorithm is given by:\n",
    "1. Sample two random variables $U_1, U_2 \\sim U[-1, 1]$ until $\\|(U_1, U_2)\\|^2 \\leq 1$.\n",
    "2. Define $X = U_1\\sqrt{-2\\log(S)/S}$ and $Y = U_2\\sqrt{-2\\log(S)/S}$ where $S = \\|(U_1, U_2)\\|^2.$\n",
    "\n",
    "Compare both sampling methods. Why could the Box-muller be better a priori ?"
   ]
  },
  {
   "cell_type": "code",
   "execution_count": null,
   "metadata": {},
   "outputs": [],
   "source": [
    "def box_muller_ameliore(n, seed=None):\n",
    "    \"\"\"2D-Gaussian generator using a cosine-free box-muller algorithm.\n",
    "    n: int.\n",
    "        number of samples.\n",
    "    seed: int (optional).\n",
    "        random seed initialization.\n",
    "    \"\"\"\n",
    "    # init generator\n",
    "    rnd = np.random.RandomState(seed)\n",
    "    \n",
    "    # generate U and V\n",
    "    U, V = np.zeros((2, n))\n",
    "    for i in range(n):\n",
    "        while(True):\n",
    "            u = 2 * rnd.rand() - 1\n",
    "            v = 2 * rnd.rand() - 1\n",
    "            # if within l2 ball\n",
    "            if u ** 2 + v ** 2 <= 1.:\n",
    "                U[i], V[i] = u, v\n",
    "                break\n",
    "    S = U ** 2 + V ** 2\n",
    "    R = np.sqrt(- 2 * np.log(S) / S)\n",
    "    X, Y = R * U, R * V\n",
    "    \n",
    "    return X, Y"
   ]
  },
  {
   "cell_type": "code",
   "execution_count": null,
   "metadata": {},
   "outputs": [],
   "source": [
    "%timeit np.cos(10)"
   ]
  },
  {
   "cell_type": "code",
   "execution_count": null,
   "metadata": {},
   "outputs": [],
   "source": [
    "%timeit np.log(9)"
   ]
  },
  {
   "cell_type": "code",
   "execution_count": null,
   "metadata": {},
   "outputs": [],
   "source": [
    "%timeit rand_gauss(10000)"
   ]
  },
  {
   "cell_type": "code",
   "execution_count": null,
   "metadata": {},
   "outputs": [],
   "source": [
    "%timeit box_muller(10000, 0)"
   ]
  },
  {
   "cell_type": "code",
   "execution_count": null,
   "metadata": {},
   "outputs": [],
   "source": [
    "%timeit box_muller_ameliore(10000, 0)"
   ]
  },
  {
   "cell_type": "markdown",
   "metadata": {},
   "source": [
    "First Box muller is better in practice since it avoids a rejection loop and is vectorized with numpy."
   ]
  },
  {
   "cell_type": "code",
   "execution_count": null,
   "metadata": {},
   "outputs": [],
   "source": []
  }
 ],
 "metadata": {
  "kernelspec": {
   "display_name": "Python 3",
   "language": "python",
   "name": "python3"
  },
  "language_info": {
   "codemirror_mode": {
    "name": "ipython",
    "version": 3
   },
   "file_extension": ".py",
   "mimetype": "text/x-python",
   "name": "python",
   "nbconvert_exporter": "python",
   "pygments_lexer": "ipython3",
   "version": "3.8.8"
  }
 },
 "nbformat": 4,
 "nbformat_minor": 2
}
